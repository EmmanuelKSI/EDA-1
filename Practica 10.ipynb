{
 "cells": [
  {
   "cell_type": "code",
   "execution_count": null,
   "id": "aea7763a",
   "metadata": {},
   "outputs": [],
   "source": [
    "# Ejercicio 1 Aplicar estructuras de control selectivas\n",
    "numero = int(input(\"Introduce un número entero: \"))\n",
    "if numero % 2 == 0:\n",
    "    print(f\"{numero} es PAR\")\n",
    "else:\n",
    "    print(f\"{numero} es IMPAR\")\n"
   ]
  },
  {
   "cell_type": "code",
   "execution_count": null,
   "id": "4b315f9d",
   "metadata": {},
   "outputs": [],
   "source": [
    "# ejercicio 2 Aplicar estructuras de control repetitivas\n",
    "numero = int(input(\"Introduce un número entero: \"))\n",
    "print(f\"Tabla de multiplicar del {numero}:\")\n",
    "for i in range(1, 11):\n",
    "    print(f\"{numero} x {i} = {numero * i}\")\n",
    "\n"
   ]
  },
  {
   "cell_type": "code",
   "execution_count": null,
   "id": "a9bc020e",
   "metadata": {},
   "outputs": [],
   "source": [
    "# ejercicio 3 Usar las bibliotecas estándar\n",
    "import math\n",
    "\n",
    "numero = float(input(\"Introduce un número positivo: \"))\n",
    "if numero >= 0:\n",
    "    raiz = math.sqrt(numero)\n",
    "    print(f\"La raíz cuadrada de {numero} es {raiz}\")\n",
    "else:\n",
    "    print(\"No se puede calcular la raíz cuadrada de un número negativo.\")\n",
    "\n"
   ]
  },
  {
   "cell_type": "code",
   "execution_count": null,
   "id": "7818883f",
   "metadata": {},
   "outputs": [],
   "source": [
    "# ejercicio 4 Generar una gráfica\n",
    "import matplotlib.pyplot as plt\n",
    "\n",
    "valores = list(range(1, 11))\n",
    "cuadrados = [x**2 for x in valores]\n",
    "\n",
    "plt.plot(valores, cuadrados, marker='o', linestyle='-', color='blue')\n",
    "plt.title(\"Gráfica de x^2\")\n",
    "plt.xlabel(\"x\")\n",
    "plt.ylabel(\"x^2\")\n",
    "plt.grid(True)\n",
    "plt.show()\n",
    "\n"
   ]
  },
  {
   "cell_type": "code",
   "execution_count": null,
   "id": "014afcbe",
   "metadata": {},
   "outputs": [],
   "source": [
    "# ejercicio 5 Ejecutar un programa desde la ventana de comandos\n",
    "def saludar():\n",
    "    print(\"¡Hola! Este programa se ejecuta desde la consola.\")\n",
    "\n",
    "if __name__ == \"__main__\":\n",
    "    saludar()\n",
    "\n"
   ]
  },
  {
   "cell_type": "code",
   "execution_count": null,
   "id": "97d300ac",
   "metadata": {},
   "outputs": [],
   "source": [
    "# ejercicio 6 Pedir datos al usuario al momento de ejecutar un programa\n",
    "import argparse\n",
    "\n",
    "def main():\n",
    "    parser = argparse.ArgumentParser(description=\"Recibe un número y muestra su cuadrado\")\n",
    "    parser.add_argument(\"numero\", type=int, help=\"Número entero\")\n",
    "    args = parser.parse_args()\n",
    "\n",
    "    cuadrado = args.numero ** 2\n",
    "    print(f\"El cuadrado de {args.numero} es {cuadrado}\")\n",
    "\n",
    "if __name__ == \"__main__\":\n",
    "    main()\n",
    "\n"
   ]
  },
  {
   "cell_type": "code",
   "execution_count": null,
   "id": "79ea9744",
   "metadata": {},
   "outputs": [],
   "source": [
    "# ejercicio 7 descuento\n",
    "edad = int(input(\"¿Cuál es tu edad? \"))\n",
    "if 6 <= edad <= 12 or edad > 60:\n",
    "    print(\"Tienes descuento\")\n",
    "else:\n",
    "    print(\"No tienes descuento\")"
   ]
  },
  {
   "cell_type": "code",
   "execution_count": null,
   "id": "1fdd5a6f",
   "metadata": {},
   "outputs": [],
   "source": [
    "# ejercicio 8 zodiaco chino\n",
    "año = int(input(\"¿Cuál es tu año de nacimiento? \"))\n",
    "animales = [\"Mono\", \"Gallo\", \"Perro\", \"Cerdo\", \"Rata\", \"Buey\",\n",
    "            \"Tigre\", \"Conejo\", \"Dragón\", \"Serpiente\", \"Caballo\", \"Cabra\"]\n",
    "print(\"Tu signo del zodiaco chino es:\", animales[año % 12])"
   ]
  },
  {
   "cell_type": "code",
   "execution_count": null,
   "id": "098a3e01",
   "metadata": {},
   "outputs": [],
   "source": [
    "# ejercicio 9 ecuación de segundo grado\n",
    "import cmath\n",
    "a = float(input(\"a: \"))\n",
    "b = float(input(\"b: \"))\n",
    "c = float(input(\"c: \"))\n",
    "discriminante = b**2 - 4*a*c\n",
    "if discriminante >= 0:\n",
    "    x1 = (-b + discriminante**0.5) / (2*a)\n",
    "    x2 = (-b - discriminante**0.5) / (2*a)\n",
    "    print(\"x1 =\", x1, \"x2 =\", x2)\n",
    "else:\n",
    "    x1 = (-b + cmath.sqrt(discriminante)) / (2*a)\n",
    "    x2 = (-b - cmath.sqrt(discriminante)) / (2*a)\n",
    "    print(\"x1 =\", x1, \"x2 =\", x2)"
   ]
  },
  {
   "cell_type": "code",
   "execution_count": null,
   "id": "d641bcbf",
   "metadata": {},
   "outputs": [],
   "source": [
    "# ejercicio 10 asteriscos en liena con while\n",
    "n = int(input(\"Número: \"))\n",
    "i = 0\n",
    "while i < n:\n",
    "    print(\"*\", end=\"\")\n",
    "    i += 1\n",
    "print()"
   ]
  },
  {
   "cell_type": "code",
   "execution_count": null,
   "id": "9ca6ece9",
   "metadata": {},
   "outputs": [],
   "source": [
    "# ejercicio 11 de cuadrado de asteriscos con while\n",
    "n = int(input(\"Número: \"))\n",
    "i = 0\n",
    "while i < n:\n",
    "    print(\"*\" * n)\n",
    "    i += 1"
   ]
  },
  {
   "cell_type": "code",
   "execution_count": null,
   "id": "472320a2",
   "metadata": {},
   "outputs": [],
   "source": [
    "# ejercico 12 de trinagulo  descendente de asteriscos con while\n",
    "n = int(input(\"Número: \"))\n",
    "while n > 0:\n",
    "    print(\"*\" * n)\n",
    "    n -= 1"
   ]
  },
  {
   "cell_type": "code",
   "execution_count": null,
   "id": "d4152dd2",
   "metadata": {},
   "outputs": [],
   "source": [
    "# ejercico 13 de triángulo invertido creciente con while\n",
    "n = int(input(\"Número: \"))\n",
    "i = 1\n",
    "while i <= n:\n",
    "    print(\"* \" * i)\n",
    "    i += 1"
   ]
  },
  {
   "cell_type": "code",
   "execution_count": null,
   "id": "6aa8fa23",
   "metadata": {},
   "outputs": [],
   "source": [
    "# ejercicio 14 de liena de asteriscos con for\n",
    "n = int(input(\"Número: \"))\n",
    "for i in range(n):\n",
    "    print(\"*\", end=\"\")\n",
    "print()"
   ]
  },
  {
   "cell_type": "code",
   "execution_count": null,
   "id": "1a8dc856",
   "metadata": {},
   "outputs": [],
   "source": [
    "# ejercicio 15 d cuadrado de asteriscos con for\n",
    "n = int(input(\"Número: \"))\n",
    "for i in range(n):\n",
    "    print(\"*\" * n)"
   ]
  },
  {
   "cell_type": "code",
   "execution_count": null,
   "id": "32a9bd5b",
   "metadata": {},
   "outputs": [],
   "source": [
    "# ejercicio 16 de triangulo descendente con for\n",
    "n = int(input(\"Número: \"))\n",
    "for i in range(n, 0, -1):\n",
    "    print(\"*\" * i)"
   ]
  },
  {
   "cell_type": "code",
   "execution_count": null,
   "id": "ffeb600b",
   "metadata": {},
   "outputs": [],
   "source": [
    "# ejercicio 17 de triangulo  creciente con for\n",
    "n = int(input(\"Número: \"))\n",
    "for i in range(1, n+1):\n",
    "    print(\"* \" * i)"
   ]
  },
  {
   "cell_type": "code",
   "execution_count": null,
   "id": "00ee427c",
   "metadata": {},
   "outputs": [],
   "source": [
    "# ejercio 18 de serie de fibonacci con función\n",
    "def fib(n):\n",
    "    a, b = 0, 1\n",
    "    while a < n:\n",
    "        print(a, end=' ')\n",
    "        a, b = b, a + b\n",
    "    print()\n",
    "\n",
    "fib(2000)"
   ]
  },
  {
   "cell_type": "code",
   "execution_count": null,
   "id": "b7de162e",
   "metadata": {},
   "outputs": [],
   "source": [
    "# ejercicios 19 del cubo de un número con funciones\n",
    "def cubo(n):\n",
    "    return n ** 3\n",
    "\n",
    "num = int(input(\"Número: \"))\n",
    "print(\"Cubo:\", cubo(num))"
   ]
  },
  {
   "cell_type": "code",
   "execution_count": null,
   "id": "96874a6b",
   "metadata": {},
   "outputs": [],
   "source": [
    "# ejercicio 20 el menor  de dos números\n",
    "def menor(a, b):\n",
    "    if a < b:\n",
    "        return a\n",
    "    elif b < a:\n",
    "        return b\n",
    "    else:\n",
    "        return \"Son iguales\"\n",
    "\n",
    "x = int(input(\"Primer número: \"))\n",
    "y = int(input(\"Segundo número: \"))\n",
    "print(\"Menor:\", menor(x, y))"
   ]
  },
  {
   "cell_type": "code",
   "execution_count": null,
   "id": "5987a43c",
   "metadata": {},
   "outputs": [],
   "source": [
    "# ejercicio 21 el valor absoluto de un numero \n",
    "def absoluto(n):\n",
    "    return abs(n)\n",
    "\n",
    "n = int(input(\"Número: \"))\n",
    "print(\"Valor absoluto:\", absoluto(n))"
   ]
  },
  {
   "cell_type": "code",
   "execution_count": null,
   "id": "7a53ee7e",
   "metadata": {},
   "outputs": [],
   "source": [
    "#ejercicio 22 de lista de fibonacci 2\n",
    "def fib2(a=0, b=1, n=1000):\n",
    "    result = []\n",
    "    while a < n:\n",
    "        result.append(a)\n",
    "        a, b = b, a + b\n",
    "    return result\n",
    "\n",
    "print(fib2(0, 1, 100))"
   ]
  },
  {
   "cell_type": "code",
   "execution_count": null,
   "id": "5c90066b",
   "metadata": {},
   "outputs": [],
   "source": [
    "# ejercicio 23 de la lista de frutas\n",
    "frutas = ['naranja', 'manzana', 'pera', 'banana', 'kiwi', 'manzana', 'banana']\n",
    "print(frutas.count('manzana'))\n",
    "print(frutas.count('mandarina'))\n",
    "print(frutas.index('banana'))\n",
    "print(frutas.index('banana', 4))\n",
    "frutas.reverse()\n",
    "print(frutas)\n",
    "frutas.append('uva')\n",
    "print(frutas)\n",
    "frutas.sort()\n",
    "print(frutas)\n",
    "frutas.pop()\n",
    "print(frutas)"
   ]
  },
  {
   "cell_type": "code",
   "execution_count": null,
   "id": "808ae56d",
   "metadata": {},
   "outputs": [],
   "source": [
    "# ejercicio 24 de pila de tamaños \n",
    "class Pila:\n",
    "    def __init__(self, max_tam):\n",
    "        self.stack = []\n",
    "        self.max_tam = max_tam\n",
    "\n",
    "    def push(self, item):\n",
    "        if len(self.stack) < self.max_tam:\n",
    "            self.stack.append(item)\n",
    "            print(\"Elemento agregado.\")\n",
    "        else:\n",
    "            print(\"Pila llena.\")\n",
    "\n",
    "    def pop(self):\n",
    "        if self.stack:\n",
    "            return self.stack.pop()\n",
    "        else:\n",
    "            print(\"Pila vacía.\")\n",
    "            return None\n",
    "\n",
    "    def mostrar(self):\n",
    "        print(\"Contenido de la pila:\", self.stack)\n",
    "\n",
    "mi_pila = Pila(3)\n",
    "mi_pila.push(1)\n",
    "mi_pila.push(2)\n",
    "mi_pila.push(3)\n",
    "mi_pila.push(4)  # Error: llena\n",
    "mi_pila.mostrar()\n",
    "mi_pila.pop()\n",
    "mi_pila.pop()\n",
    "mi_pila.pop()\n",
    "mi_pila.pop()  # Error: vacía"
   ]
  }
 ],
 "metadata": {
  "language_info": {
   "name": "python"
  }
 },
 "nbformat": 4,
 "nbformat_minor": 5
}
